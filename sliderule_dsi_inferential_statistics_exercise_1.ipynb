{
 "cells": [
  {
   "cell_type": "markdown",
   "metadata": {},
   "source": [
    "# What is the True Normal Human Body Temperature? \n",
    "\n",
    "#### Background\n",
    "\n",
    "The mean normal body temperature was held to be 37$^{\\circ}$C or 98.6$^{\\circ}$F for more than 120 years since it was first conceptualized and reported by Carl Wunderlich in a famous 1868 book. But, is this value statistically correct?"
   ]
  },
  {
   "cell_type": "markdown",
   "metadata": {},
   "source": [
    "<h3>Exercises</h3>\n",
    "\n",
    "<p>In this exercise, you will analyze a dataset of human body temperatures and employ the concepts of hypothesis testing, confidence intervals, and statistical significance.</p>\n",
    "\n",
    "<p>Answer the following questions <b>in this notebook below and submit to your Github account</b>.</p> \n",
    "\n",
    "<ol>\n",
    "<li>  Is the distribution of body temperatures normal? \n",
    "    <ul>\n",
    "    <li> Although this is not a requirement for the Central Limit Theorem to hold (read the introduction on Wikipedia's page about the CLT carefully: https://en.wikipedia.org/wiki/Central_limit_theorem), it gives us some peace of mind that the population may also be normally distributed if we assume that this sample is representative of the population.\n",
    "    <li> Think about the way you're going to check for the normality of the distribution. Graphical methods are usually used first, but there are also other ways: https://en.wikipedia.org/wiki/Normality_test\n",
    "    </ul>\n",
    "<li>  Is the sample size large? Are the observations independent?\n",
    "    <ul>\n",
    "    <li> Remember that this is a condition for the Central Limit Theorem, and hence the statistical tests we are using, to apply.\n",
    "    </ul>\n",
    "<li>  Is the true population mean really 98.6 degrees F?\n",
    "    <ul>\n",
    "    <li> First, try a bootstrap hypothesis test.\n",
    "    <li> Now, let's try frequentist statistical testing. Would you use a one-sample or two-sample test? Why?\n",
    "    <li> In this situation, is it appropriate to use the $t$ or $z$ statistic? \n",
    "    <li> Now try using the other test. How is the result be different? Why?\n",
    "    </ul>\n",
    "<li>  Draw a small sample of size 10 from the data and repeat both frequentist tests. \n",
    "    <ul>\n",
    "    <li> Which one is the correct one to use? \n",
    "    <li> What do you notice? What does this tell you about the difference in application of the $t$ and $z$ statistic?\n",
    "    </ul>\n",
    "<li>  At what temperature should we consider someone's temperature to be \"abnormal\"?\n",
    "    <ul>\n",
    "    <li> As in the previous example, try calculating everything using the boostrap approach, as well as the frequentist approach.\n",
    "    <li> Start by computing the margin of error and confidence interval. When calculating the confidence interval, keep in mind that you should use the appropriate formula for one draw, and not N draws.\n",
    "    </ul>\n",
    "<li>  Is there a significant difference between males and females in normal temperature?\n",
    "    <ul>\n",
    "    <li> What testing approach did you use and why?\n",
    "    <li> Write a story with your conclusion in the context of the original problem.\n",
    "    </ul>\n",
    "</ol>\n",
    "\n",
    "You can include written notes in notebook cells using Markdown: \n",
    "   - In the control panel at the top, choose Cell > Cell Type > Markdown\n",
    "   - Markdown syntax: http://nestacms.com/docs/creating-content/markdown-cheat-sheet\n",
    "\n",
    "#### Resources\n",
    "\n",
    "+ Information and data sources: http://www.amstat.org/publications/jse/datasets/normtemp.txt, http://www.amstat.org/publications/jse/jse_data_archive.htm\n",
    "+ Markdown syntax: http://nestacms.com/docs/creating-content/markdown-cheat-sheet\n",
    "\n",
    "****"
   ]
  },
  {
   "cell_type": "code",
   "execution_count": 15,
   "metadata": {},
   "outputs": [
    {
     "data": {
      "text/html": [
       "<div>\n",
       "<style scoped>\n",
       "    .dataframe tbody tr th:only-of-type {\n",
       "        vertical-align: middle;\n",
       "    }\n",
       "\n",
       "    .dataframe tbody tr th {\n",
       "        vertical-align: top;\n",
       "    }\n",
       "\n",
       "    .dataframe thead th {\n",
       "        text-align: right;\n",
       "    }\n",
       "</style>\n",
       "<table border=\"1\" class=\"dataframe\">\n",
       "  <thead>\n",
       "    <tr style=\"text-align: right;\">\n",
       "      <th></th>\n",
       "      <th>temperature</th>\n",
       "      <th>gender</th>\n",
       "      <th>heart_rate</th>\n",
       "    </tr>\n",
       "  </thead>\n",
       "  <tbody>\n",
       "    <tr>\n",
       "      <th>0</th>\n",
       "      <td>99.3</td>\n",
       "      <td>F</td>\n",
       "      <td>68.0</td>\n",
       "    </tr>\n",
       "    <tr>\n",
       "      <th>1</th>\n",
       "      <td>98.4</td>\n",
       "      <td>F</td>\n",
       "      <td>81.0</td>\n",
       "    </tr>\n",
       "    <tr>\n",
       "      <th>2</th>\n",
       "      <td>97.8</td>\n",
       "      <td>M</td>\n",
       "      <td>73.0</td>\n",
       "    </tr>\n",
       "    <tr>\n",
       "      <th>3</th>\n",
       "      <td>99.2</td>\n",
       "      <td>F</td>\n",
       "      <td>66.0</td>\n",
       "    </tr>\n",
       "    <tr>\n",
       "      <th>4</th>\n",
       "      <td>98.0</td>\n",
       "      <td>F</td>\n",
       "      <td>73.0</td>\n",
       "    </tr>\n",
       "  </tbody>\n",
       "</table>\n",
       "</div>"
      ],
      "text/plain": [
       "   temperature gender  heart_rate\n",
       "0         99.3      F        68.0\n",
       "1         98.4      F        81.0\n",
       "2         97.8      M        73.0\n",
       "3         99.2      F        66.0\n",
       "4         98.0      F        73.0"
      ]
     },
     "execution_count": 15,
     "metadata": {},
     "output_type": "execute_result"
    }
   ],
   "source": [
    "import pandas as pd\n",
    "\n",
    "df = pd.read_csv('/Users/miloneythakrar/Desktop/data/human_body_temperature.csv')\n",
    "df.head()"
   ]
  },
  {
   "cell_type": "code",
   "execution_count": 16,
   "metadata": {},
   "outputs": [
    {
     "data": {
      "text/html": [
       "<div>\n",
       "<style scoped>\n",
       "    .dataframe tbody tr th:only-of-type {\n",
       "        vertical-align: middle;\n",
       "    }\n",
       "\n",
       "    .dataframe tbody tr th {\n",
       "        vertical-align: top;\n",
       "    }\n",
       "\n",
       "    .dataframe thead th {\n",
       "        text-align: right;\n",
       "    }\n",
       "</style>\n",
       "<table border=\"1\" class=\"dataframe\">\n",
       "  <thead>\n",
       "    <tr style=\"text-align: right;\">\n",
       "      <th></th>\n",
       "      <th>temperature</th>\n",
       "      <th>heart_rate</th>\n",
       "    </tr>\n",
       "  </thead>\n",
       "  <tbody>\n",
       "    <tr>\n",
       "      <th>count</th>\n",
       "      <td>130.000000</td>\n",
       "      <td>130.000000</td>\n",
       "    </tr>\n",
       "    <tr>\n",
       "      <th>mean</th>\n",
       "      <td>98.249231</td>\n",
       "      <td>73.761538</td>\n",
       "    </tr>\n",
       "    <tr>\n",
       "      <th>std</th>\n",
       "      <td>0.733183</td>\n",
       "      <td>7.062077</td>\n",
       "    </tr>\n",
       "    <tr>\n",
       "      <th>min</th>\n",
       "      <td>96.300000</td>\n",
       "      <td>57.000000</td>\n",
       "    </tr>\n",
       "    <tr>\n",
       "      <th>25%</th>\n",
       "      <td>97.800000</td>\n",
       "      <td>69.000000</td>\n",
       "    </tr>\n",
       "    <tr>\n",
       "      <th>50%</th>\n",
       "      <td>98.300000</td>\n",
       "      <td>74.000000</td>\n",
       "    </tr>\n",
       "    <tr>\n",
       "      <th>75%</th>\n",
       "      <td>98.700000</td>\n",
       "      <td>79.000000</td>\n",
       "    </tr>\n",
       "    <tr>\n",
       "      <th>max</th>\n",
       "      <td>100.800000</td>\n",
       "      <td>89.000000</td>\n",
       "    </tr>\n",
       "  </tbody>\n",
       "</table>\n",
       "</div>"
      ],
      "text/plain": [
       "       temperature  heart_rate\n",
       "count   130.000000  130.000000\n",
       "mean     98.249231   73.761538\n",
       "std       0.733183    7.062077\n",
       "min      96.300000   57.000000\n",
       "25%      97.800000   69.000000\n",
       "50%      98.300000   74.000000\n",
       "75%      98.700000   79.000000\n",
       "max     100.800000   89.000000"
      ]
     },
     "execution_count": 16,
     "metadata": {},
     "output_type": "execute_result"
    }
   ],
   "source": [
    "df.describe()"
   ]
  },
  {
   "cell_type": "code",
   "execution_count": 19,
   "metadata": {},
   "outputs": [
    {
     "data": {
      "text/plain": [
       "0    99.3\n",
       "1    98.4\n",
       "2    97.8\n",
       "3    99.2\n",
       "4    98.0\n",
       "Name: temperature, dtype: float64"
      ]
     },
     "execution_count": 19,
     "metadata": {},
     "output_type": "execute_result"
    }
   ],
   "source": [
    "temps = df['temperature']\n",
    "temps.head()"
   ]
  },
  {
   "cell_type": "code",
   "execution_count": 18,
   "metadata": {},
   "outputs": [],
   "source": [
    "import matplotlib.pyplot as plt\n",
    "import numpy as np"
   ]
  },
  {
   "cell_type": "code",
   "execution_count": 24,
   "metadata": {},
   "outputs": [
    {
     "data": {
      "image/png": "[encoded data removed]",
      "text/plain": [
       "<Figure size 432x288 with 1 Axes>"
      ]
     },
     "metadata": {},
     "output_type": "display_data"
    }
   ],
   "source": [
    "df.temperature.hist(bins=10)\n",
    "plt.title(\"Human Body Temperature\")\n",
    "plt.xlabel(\"Temperature\")\n",
    "plt.ylabel(\"Frequency\")\n",
    "plt.show()"
   ]
  },
  {
   "cell_type": "code",
   "execution_count": 8,
   "metadata": {},
   "outputs": [
    {
     "data": {
      "image/png": "[encoded data removed]",
      "text/plain": [
       "<Figure size 432x288 with 1 Axes>"
      ]
     },
     "metadata": {},
     "output_type": "display_data"
    }
   ],
   "source": [
    "import statsmodels.api as sm\n",
    "import matplotlib.pyplot as plt\n",
    "sm.qqplot(temps, loc = 98, scale = 0.7, line='s')\n",
    "plt.show()"
   ]
  },
  {
   "cell_type": "code",
   "execution_count": 29,
   "metadata": {},
   "outputs": [],
   "source": [
    "import scipy.stats as stats"
   ]
  },
  {
   "cell_type": "code",
   "execution_count": 30,
   "metadata": {},
   "outputs": [
    {
     "data": {
      "text/plain": [
       "NormaltestResult(statistic=2.703801433319203, pvalue=0.2587479863488254)"
      ]
     },
     "execution_count": 30,
     "metadata": {},
     "output_type": "execute_result"
    }
   ],
   "source": [
    "stats.normaltest(df.temperature)"
   ]
  },
  {
   "cell_type": "code",
   "execution_count": 31,
   "metadata": {},
   "outputs": [
    {
     "data": {
      "text/plain": [
       "130"
      ]
     },
     "execution_count": 31,
     "metadata": {},
     "output_type": "execute_result"
    }
   ],
   "source": [
    "len(df)"
   ]
  },
  {
   "cell_type": "code",
   "execution_count": 16,
   "metadata": {},
   "outputs": [],
   "source": [
    "import numpy as np\n",
    "bs_sample = np.random.choice(temps, size = len(temps))"
   ]
  },
  {
   "cell_type": "code",
   "execution_count": 17,
   "metadata": {},
   "outputs": [
    {
     "data": {
      "text/plain": [
       "98.22384615384615"
      ]
     },
     "execution_count": 17,
     "metadata": {},
     "output_type": "execute_result"
    }
   ],
   "source": [
    "np.mean(bs_sample)"
   ]
  },
  {
   "cell_type": "code",
   "execution_count": 3,
   "metadata": {},
   "outputs": [],
   "source": [
    "import pandas as pd\n",
    "import numpy as np\n",
    "df = pd.read_csv('/Users/miloneythakrar/Desktop/data/human_body_temperature.csv')\n",
    "temps = df['temperature']"
   ]
  },
  {
   "cell_type": "code",
   "execution_count": 2,
   "metadata": {},
   "outputs": [],
   "source": [
    "translated_temps = temps - np.mean(temps) + 98.6"
   ]
  },
  {
   "cell_type": "code",
   "execution_count": 4,
   "metadata": {},
   "outputs": [],
   "source": [
    "def diff_from_truepopmean(data, truepop_value=98.6):\n",
    "    return np.mean(data)-truepop_value"
   ]
  },
  {
   "cell_type": "code",
   "execution_count": 13,
   "metadata": {},
   "outputs": [],
   "source": [
    "diff_obs = diff_from_truepopmean(temps)"
   ]
  },
  {
   "cell_type": "code",
   "execution_count": 19,
   "metadata": {},
   "outputs": [
    {
     "data": {
      "text/plain": [
       "-0.35076923076921673"
      ]
     },
     "execution_count": 19,
     "metadata": {},
     "output_type": "execute_result"
    }
   ],
   "source": [
    "diff_obs"
   ]
  },
  {
   "cell_type": "code",
   "execution_count": 14,
   "metadata": {},
   "outputs": [],
   "source": [
    "def bootstrap_replicate_1d(data, func):\n",
    "    return func(np.random.choice(data, size=len(data)))"
   ]
  },
  {
   "cell_type": "code",
   "execution_count": 15,
   "metadata": {},
   "outputs": [],
   "source": [
    "def draw_bs_reps(data, func, size=1):\n",
    "    bs_replicates = np.empty(size)\n",
    "    for i in range(size):\n",
    "        bs_replicates[i]= bootstrap_replicate_1d(data,func)\n",
    "    return bs_replicates"
   ]
  },
  {
   "cell_type": "code",
   "execution_count": 37,
   "metadata": {},
   "outputs": [],
   "source": [
    "bs_replicates = draw_bs_reps(data=translated_temps, func= diff_from_truepopmean, size = 10000)\n"
   ]
  },
  {
   "cell_type": "code",
   "execution_count": 38,
   "metadata": {},
   "outputs": [],
   "source": [
    "p_value = np.sum(bs_replicates <= diff_obs) /10000"
   ]
  },
  {
   "cell_type": "code",
   "execution_count": 39,
   "metadata": {},
   "outputs": [
    {
     "name": "stdout",
     "output_type": "stream",
     "text": [
      "p =  0.0\n"
     ]
    }
   ],
   "source": [
    "print('p = ', p)"
   ]
  },
  {
   "cell_type": "code",
   "execution_count": 18,
   "metadata": {},
   "outputs": [],
   "source": [
    "sd_population = df.temperature.std()"
   ]
  },
  {
   "cell_type": "code",
   "execution_count": 20,
   "metadata": {},
   "outputs": [
    {
     "name": "stdout",
     "output_type": "stream",
     "text": [
      "0.06430441683789101\n"
     ]
    }
   ],
   "source": [
    "import math;\n",
    "sd_sample_distribution = sd_population / math.sqrt(df.temperature.size)\n",
    "print(sd_sample_distribution)"
   ]
  },
  {
   "cell_type": "code",
   "execution_count": 21,
   "metadata": {},
   "outputs": [
    {
     "name": "stdout",
     "output_type": "stream",
     "text": [
      "0.165637201238663\n"
     ]
    }
   ],
   "source": [
    "import scipy.stats as stats\n",
    "sd_above = (stats.norm(0,1).ppf(1 - ((1 - 0.99)/2))) * sd_sample_distribution\n",
    "print(sd_above)"
   ]
  },
  {
   "cell_type": "code",
   "execution_count": 22,
   "metadata": {},
   "outputs": [],
   "source": [
    "sd_below = -1 * sd_above"
   ]
  },
  {
   "cell_type": "code",
   "execution_count": 23,
   "metadata": {},
   "outputs": [
    {
     "data": {
      "text/plain": [
       "98.41486797046944"
      ]
     },
     "execution_count": 23,
     "metadata": {},
     "output_type": "execute_result"
    }
   ],
   "source": [
    "df.temperature.mean()+sd_above"
   ]
  },
  {
   "cell_type": "code",
   "execution_count": 24,
   "metadata": {},
   "outputs": [
    {
     "data": {
      "text/plain": [
       "98.08359356799211"
      ]
     },
     "execution_count": 24,
     "metadata": {},
     "output_type": "execute_result"
    }
   ],
   "source": [
    "df.temperature.mean()+sd_below"
   ]
  },
  {
   "cell_type": "code",
   "execution_count": 26,
   "metadata": {},
   "outputs": [
    {
     "name": "stdout",
     "output_type": "stream",
     "text": [
      "0.16812252683319379\n"
     ]
    }
   ],
   "source": [
    "sd_above = stats.t.ppf(1-0.005, df.temperature.size - 1) * sd_sample_distribution\n",
    "print(sd_above)"
   ]
  },
  {
   "cell_type": "code",
   "execution_count": 27,
   "metadata": {},
   "outputs": [],
   "source": [
    "sd_below = -1 * sd_above"
   ]
  },
  {
   "cell_type": "code",
   "execution_count": 28,
   "metadata": {},
   "outputs": [
    {
     "data": {
      "text/plain": [
       "98.41735329606396"
      ]
     },
     "execution_count": 28,
     "metadata": {},
     "output_type": "execute_result"
    }
   ],
   "source": [
    "df.temperature.mean()+sd_above"
   ]
  },
  {
   "cell_type": "code",
   "execution_count": 29,
   "metadata": {},
   "outputs": [
    {
     "data": {
      "text/plain": [
       "98.08110824239759"
      ]
     },
     "execution_count": 29,
     "metadata": {},
     "output_type": "execute_result"
    }
   ],
   "source": [
    "df.temperature.mean()+sd_below"
   ]
  },
  {
   "cell_type": "code",
   "execution_count": 69,
   "metadata": {},
   "outputs": [
    {
     "data": {
      "text/plain": [
       "0    98.4\n",
       "1    97.8\n",
       "2    99.0\n",
       "3    97.4\n",
       "4    98.8\n",
       "5    98.2\n",
       "6    98.0\n",
       "7    97.6\n",
       "8    98.0\n",
       "9    97.1\n",
       "Name: temperature, dtype: float64"
      ]
     },
     "execution_count": 69,
     "metadata": {},
     "output_type": "execute_result"
    }
   ],
   "source": [
    "import pandas\n",
    "import random\n",
    "\n",
    "filename = '/Users/miloneythakrar/Desktop/data/human_body_temperature.csv'\n",
    "n = sum(1 for line in open(filename)) - 1 #number of records in file (excludes header)\n",
    "s = 10 #desired sample size\n",
    "skip = sorted(random.sample(range(1,n+1),n-s)) #the 0-indexed header will not be included in the skip list\n",
    "df = pandas.read_csv('/Users/miloneythakrar/Desktop/data/human_body_temperature.csv', skiprows=skip)\n",
    "df['temperature']"
   ]
  },
  {
   "cell_type": "code",
   "execution_count": 72,
   "metadata": {},
   "outputs": [
    {
     "name": "stdout",
     "output_type": "stream",
     "text": [
      "98.19563720123867\n",
      "97.86436279876133\n"
     ]
    }
   ],
   "source": [
    "sd_above = stats.norm(0,1).ppf(1 - ((1 - 0.99)/2)) * sd_sample_distribution\n",
    "sd_below = -1 * sd_above\n",
    "print(df.temperature.mean()+sd_above)\n",
    "print(df.temperature.mean()+sd_below)"
   ]
  },
  {
   "cell_type": "code",
   "execution_count": 71,
   "metadata": {},
   "outputs": [
    {
     "name": "stdout",
     "output_type": "stream",
     "text": [
      "98.23897877947697\n",
      "97.82102122052304\n"
     ]
    }
   ],
   "source": [
    "sd_above = stats.t.ppf(1-0.005, df.temperature.size - 1) * sd_sample_distribution\n",
    "sd_below = -1 * sd_above\n",
    "print(df.temperature.mean()+sd_above)\n",
    "print(df.temperature.mean()+sd_below)"
   ]
  },
  {
   "cell_type": "code",
   "execution_count": 31,
   "metadata": {},
   "outputs": [
    {
     "name": "stdout",
     "output_type": "stream",
     "text": [
      "98.3752651102799\n",
      "98.12319642818166\n"
     ]
    }
   ],
   "source": [
    "sd_above = stats.norm(0,1).ppf(1 - ((1 - 0.95)/2)) * sd_sample_distribution\n",
    "sd_below = -1 * sd_above\n",
    "print(df.temperature.mean()+sd_above)\n",
    "print(df.temperature.mean()+sd_below)"
   ]
  },
  {
   "cell_type": "code",
   "execution_count": 32,
   "metadata": {},
   "outputs": [],
   "source": [
    "males = df[df['gender'] == 'M'].temperature"
   ]
  },
  {
   "cell_type": "code",
   "execution_count": 33,
   "metadata": {},
   "outputs": [],
   "source": [
    "females = df[df['gender'] == 'F'].temperature"
   ]
  },
  {
   "cell_type": "code",
   "execution_count": 34,
   "metadata": {},
   "outputs": [
    {
     "data": {
      "text/plain": [
       "98.1046153846154"
      ]
     },
     "execution_count": 34,
     "metadata": {},
     "output_type": "execute_result"
    }
   ],
   "source": [
    "males.mean()"
   ]
  },
  {
   "cell_type": "code",
   "execution_count": 35,
   "metadata": {},
   "outputs": [
    {
     "data": {
      "text/plain": [
       "98.39384615384613"
      ]
     },
     "execution_count": 35,
     "metadata": {},
     "output_type": "execute_result"
    }
   ],
   "source": [
    "females.mean()"
   ]
  },
  {
   "cell_type": "code",
   "execution_count": 37,
   "metadata": {},
   "outputs": [
    {
     "name": "stdout",
     "output_type": "stream",
     "text": [
      "-0.289230769230727\n"
     ]
    }
   ],
   "source": [
    "sample_diff = males.mean() - females.mean()\n",
    "print(sample_diff)"
   ]
  },
  {
   "cell_type": "code",
   "execution_count": 39,
   "metadata": {},
   "outputs": [
    {
     "name": "stdout",
     "output_type": "stream",
     "text": [
      "0.12655395041982642\n"
     ]
    }
   ],
   "source": [
    "standard_deviation_diff = math.sqrt((math.pow(males.std(), 2)/ males.size) + (math.pow(females.std(), 2)/ females.size))\n",
    "print(standard_deviation_diff)"
   ]
  },
  {
   "cell_type": "code",
   "execution_count": null,
   "metadata": {},
   "outputs": [],
   "source": [
    "# Exercise 1_Human Body Temperature_Exercise \n",
    "\n",
    "https://dsintensivecommunity.springboard.com/t/q5m5xz/human-body-temp-exercise\n",
    "http://justinbois.github.io/bootcamp/2016/lessons/l28_practice_with_hackerstats_solution.html\n",
    "\n",
    "1. Is the distribution of body temperature normal?\n",
    "\n",
    "The visual inspection of the histogram indicates that distibution of human body temperature is normally distibuted in \n",
    "that the data is fairly symmetrical and has no significant outliers.  The qq plot also indicates that human body \n",
    "temperature is normally distributed in that the data points fall approximately on the line. These visualization methods\n",
    "are not sufficient to test the normality of the data. \n",
    "\n",
    "The pvalue reported by the normaltest (approx 25.9%) is significantly higher than the 5% significance level which \n",
    "indicates we can accept null hypothesis (the null hypothesis here being that df.temperature is normally distributed). \n",
    "\n",
    "\n",
    "2. Is the sample size large? Are the observations independent?\n",
    "\n",
    "When determining and evaluating the sample size, it's important to take into consideration several factors including:\n",
    "population size (i.e., total number of people that fit into the target demographic), margin of error, confidence level,\n",
    "and standard deviation. The sample size is 130 and is large in that it is greater than 30, which is a condition \n",
    "that must be met to conduct a z-test. \n",
    "\n",
    "As stated in the question, independence is a condition for the Central Limit Theorem. The observations are independent in that each observation represents an individual's body temperature, which does not \n",
    "influence or impact the body temperature of another individual. In other words, one's body temperature is not dependent\n",
    "on a another person's body temperature. \n",
    "\n",
    "3. Is the true population mean really 98.6 degrees F?\n",
    "\n",
    "Temperature is a continuous variable so that it highly unlikely that the true population mean is the discrete value of\n",
    "98.6. However, assuming that the sample population is representative of the true population, it is possible to \n",
    "calculate the population mean with a confidence interval of 99%.\n",
    "\n",
    "First, try a bootstrap hypothesis test.\n",
    "\n",
    "A bootstrap hypothesis test uses resampled data to conduct statistical inference. When conducting a bootstrap hypothesis \n",
    "test, the first step is to state the hypothesis test.  In this case, the null hypothesis is that true population mean \n",
    "for human body temperature equals 98.6. This begs the question is it possible to obtain a data sample like the one \n",
    "provided if the true population mean is 98.6 if we resample the data multiple times. Because we are comparing a dataset \n",
    "with a value (i.e., true population mean), a permutation test is not applicable. Thus, we need to simulate the data so\n",
    "that true population mean is 98.6.  To achieve this, we have to shift the sample data mean such that it matches the\n",
    "true population mean (i.e., 98.6). We then can use bootstrapping on this shifted data to simulate data acquisition \n",
    "under the null hypothesis.   \n",
    "\n",
    "The test statistic is the mean of the bootstrap sample minus the true population mean. We then use draw bs reps to \n",
    "generate the bootstrap replicates. The data we pass into the function is are the translated temperature measurements \n",
    "because those we want to use to simulate the null hypothesis. The computation for the p-value to report the fraction of\n",
    "bootstrap replicates that are less than the observed test statistic. We use less than because the mean from the data \n",
    "is less the the true population mean. The p-value is 0, which suggest we can reject the null hypothesis. \n",
    " \n",
    "\n",
    "Now, let's try frequentist statistical testing. Would you use a one-sample or two-sample test? Why?\n",
    "In this situation, is it appropriate to use the  t  or  z  statistic?\n",
    "\n",
    "The z statistic is appropriate to use because the sample size is greater than 30. In other words, the z statistic is\n",
    "expected to be normally distributed when the sample size is greater than 30. The z statistic can be used with the \n",
    "sample std and sample mean to calculate the confidence intervals.  Even though we don't have the true population std, \n",
    "if n>30, then we can substitute the sample std for the population std. \n",
    "\n",
    "Using the z statistic, we can find the 99% confidence interval in which the true population mean will lie. We can use \n",
    "the standard deviation (SD) of our sample as the best estimate of our population SD. Using Central Limit Theorem, \n",
    "the SD of the sample distribution is sd_population / sqrt(sample_size). We are 99% confident that the true population \n",
    "mean is between 98.415 degrees and 98.084 degrees.\n",
    "\n",
    "Two-sample tests are typically used when comparing two groups (e.g., male/female or control/treatment), which is not \n",
    "relevant in this case.  For this reason, a one-sample test is more appropriate. \n",
    "\n",
    "Now try using the other test. How is the result be different? Why?\n",
    "\n",
    "The 99% confidence interval using the t-statistic is 98.417 degrees to 98.081 degrees which is a slightly smaller \n",
    "range than what was derived using the Z-statistic. \n",
    "\n",
    "4. Draw a small sample of size 10 from the data and repeat both frequentist tests.\n",
    "Which one is the correct one to use?\n",
    "What do you notice? What does this tell you about the difference in application of the  t  and  z  statistic?\n",
    "\n",
    "In order to make an inference from a sample,the random, normal, and independent conditions must be met. The random \n",
    "condition can be met by using the random function.  When sampling without replacement, the sample should be no more \n",
    "than 10 percent of the population. It is safe to assume that the 130 people is no more than 10 percent of the entire \n",
    "human population, so this condition is also met. In order to meet the normal condition, there are at least 10 expected\n",
    "failures and at least 10 expected successes.  This condition is not met because the total sample size is 10.  For this \n",
    "reason, we can cannot draw any inferences from the sample, thus neither is the correct one to use. If these conditions\n",
    "were met, the t-test would be the correct test to use if the sample was <30. As such the sample data set would not be\n",
    "normally distributed but rather follow a t distibution. \n",
    "\n",
    "Drawing a small sample size 10 from the data results revealed that when using the z statistic, we are 99% confident \n",
    "that the population mean is between 98.196 and 97.864. Similarly, the data results revealed with using the t statistic,\n",
    "we are 99% confident that the population mean is between 98.239 and 97.821. \n",
    "\n",
    "5. At what temperature should we consider someone's temperature to be \"abnormal\"?\n",
    "We can consider someone's temperature to abnormal if it is more than 98.38 (i.e., more than one standard deviation above \n",
    "the mean) or less than 98.12 (i.e., more than one standard deviation below the mean).\n",
    "                                     \n",
    "6. Is there a significant difference between males and females in normal temperature?\n",
    "\n",
    "Assuming a null hypothesis that there is no difference between the male and female normal tempratures \n",
    "(difference of population mean is 0). The probability of getting a difference of -0.289 degrees is \n",
    "1.114%, which is less than 5% of a significance threshold. Thus, we can reject null hypothesis and assert that there is \n",
    "indeed a difference between the male population temperature and the female population temperature.\n",
    "\n",
    "While it's nearly impossible to measure the body temprature of entire human population, we can make the following \n",
    "conclusions using Central Limit Theorem if we assume that the sample dataset is representative of the total population and \n",
    "the random, normal, and independent conditions for inference are met: \n",
    "\n",
    "Overall body temperature overall is normally distributed. \n",
    "We can be 99% confident that the true population mean is between 98.415 degrees and 98.084 degrees.\n",
    "If someone's temperature is less than 98.38 degrees or greater than 98.12 it should be considered abnormal.\n",
    "There is a significant difference between the male population temperature and the female population temperature. \n",
    "In addition, females tend to have a higher body temperature than males.\n",
    "\n"
   ]
  }
 ],
 "metadata": {
  "kernelspec": {
   "display_name": "Python 3",
   "language": "python",
   "name": "python3"
  },
  "language_info": {
   "codemirror_mode": {
    "name": "ipython",
    "version": 3
   },
   "file_extension": ".py",
   "mimetype": "text/x-python",
   "name": "python",
   "nbconvert_exporter": "python",
   "pygments_lexer": "ipython3",
   "version": "3.6.5"
  }
 },
 "nbformat": 4,
 "nbformat_minor": 1
}
